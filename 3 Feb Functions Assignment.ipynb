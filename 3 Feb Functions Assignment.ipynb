{
 "cells": [
  {
   "cell_type": "markdown",
   "id": "45cfd6dd-f558-4edb-b108-9e4f84aae804",
   "metadata": {},
   "source": [
    "## Q1. Which keyword is used to create a function? Create a function to return a list of odd numbers in the range of 1 to 25."
   ]
  },
  {
   "cell_type": "code",
   "execution_count": 30,
   "id": "2dec656b-ba91-48e6-85b2-99f3f5e75946",
   "metadata": {},
   "outputs": [],
   "source": [
    "# def keyword is used to create a function \n",
    "def odd_numbers():\n",
    "    start=int(input(\"Give the start input :\"))\n",
    "    end=int(input(\"give the last range :\"))\n",
    "    \n",
    "    odd_numbers_list=[num for num in range(start,end+1) if num%2!=0]\n",
    "    return odd_numbers_list"
   ]
  },
  {
   "cell_type": "code",
   "execution_count": 31,
   "id": "2a12913f-2aaa-487a-be3b-8ed882df0cac",
   "metadata": {},
   "outputs": [
    {
     "name": "stdin",
     "output_type": "stream",
     "text": [
      "Give the start input : 1\n",
      "give the last range : 25\n"
     ]
    },
    {
     "data": {
      "text/plain": [
       "[1, 3, 5, 7, 9, 11, 13, 15, 17, 19, 21, 23, 25]"
      ]
     },
     "execution_count": 31,
     "metadata": {},
     "output_type": "execute_result"
    }
   ],
   "source": [
    "odd_numbers()"
   ]
  },
  {
   "cell_type": "markdown",
   "id": "1195a54e-d308-48d3-b87a-5eb0cac2aef5",
   "metadata": {},
   "source": [
    "## Q2. Why *args and **kwargs is used in some functions? Create a function each for *args and **kwargs to demonstrate their use."
   ]
  },
  {
   "cell_type": "markdown",
   "id": "925ac8a6-3cbb-4d9e-a478-498b47b53a38",
   "metadata": {},
   "source": [
    "- *args and **kwargs are used in Python functions to handle variable-length arguments.\n",
    "\n",
    "- *args is used to pass a variable number of positional arguments to a function. It allows you to pass any number of arguments to the function, and these arguments will be wrapped up in a tuple."
   ]
  },
  {
   "cell_type": "code",
   "execution_count": 43,
   "id": "72595325-c3d4-4af2-b4c9-3778a1af7cdd",
   "metadata": {},
   "outputs": [],
   "source": [
    "def sum_all(*args):\n",
    "    total=0\n",
    "    for i in args:\n",
    "        total  +=i\n",
    "    return total"
   ]
  },
  {
   "cell_type": "code",
   "execution_count": 44,
   "id": "bdaf38ce-65b7-401c-b63a-f28078545f4a",
   "metadata": {},
   "outputs": [
    {
     "data": {
      "text/plain": [
       "40"
      ]
     },
     "execution_count": 44,
     "metadata": {},
     "output_type": "execute_result"
    }
   ],
   "source": [
    "sum_all(4,5,7,8,9,2,5)"
   ]
  },
  {
   "cell_type": "markdown",
   "id": "de74be69-b627-4b33-abb4-f4ca38e8d66e",
   "metadata": {},
   "source": [
    "- **kwargs is used to pass a variable number of keyword arguments to a function. It allows you to pass any number of keyword arguments to the function, and these arguments will be wrapped up in a dictionary."
   ]
  },
  {
   "cell_type": "code",
   "execution_count": 45,
   "id": "1069c504-960b-4ae1-a70f-17a72c00ba1d",
   "metadata": {},
   "outputs": [],
   "source": [
    "def person_details(**kwargs):\n",
    "    for key,value in kwargs.items():\n",
    "        print(f\"{key}:{value}\")"
   ]
  },
  {
   "cell_type": "code",
   "execution_count": 52,
   "id": "04d70544-08fb-4158-9f7f-171d33cb6d7d",
   "metadata": {},
   "outputs": [
    {
     "name": "stdout",
     "output_type": "stream",
     "text": [
      "name:sakshi\n",
      "age:22\n"
     ]
    }
   ],
   "source": [
    "person_details(name='sakshi',age=22)"
   ]
  },
  {
   "cell_type": "markdown",
   "id": "0bad3d5e-ca08-460c-8276-a48659071915",
   "metadata": {},
   "source": [
    "## Q3. What is an iterator in python? Name the method used to initialise the iterator object and the method used for iteration. Use these methods to print the first five elements of the given list [2, 4, 6, 8, 10, 12, 14, 16, 18, 20]."
   ]
  },
  {
   "cell_type": "markdown",
   "id": "78eb6020-6f48-461a-81ff-f13cd62ff890",
   "metadata": {},
   "source": [
    "- In Python, an iterator is an object that represents a stream of data. It implements two methods: __iter__() and __next__(). The __iter__() method initializes the iterator object, and the __next__() method is used for iteration, returning the next item from the stream of data.\n",
    "\n",
    "To print the first five elements of the given list [2, 4, 6, 8, 10, 12, 14, 16, 18, 20] using these methods, you can follow this approach:\n"
   ]
  },
  {
   "cell_type": "code",
   "execution_count": 53,
   "id": "d9353ad7-5353-4d2b-a206-a72d761a5027",
   "metadata": {},
   "outputs": [
    {
     "name": "stdout",
     "output_type": "stream",
     "text": [
      "2\n",
      "4\n",
      "6\n",
      "8\n",
      "10\n"
     ]
    }
   ],
   "source": [
    "# Define the list\n",
    "my_list = [2, 4, 6, 8, 10, 12, 14, 16, 18, 20]\n",
    "\n",
    "# Initialize the iterator object\n",
    "my_iterator = iter(my_list)\n",
    "\n",
    "# Iterate using the iterator object and print the first five elements\n",
    "for _ in range(5):\n",
    "    print(next(my_iterator))\n"
   ]
  },
  {
   "cell_type": "markdown",
   "id": "1dc6f873-b1ea-4e68-b899-ef2942f8548b",
   "metadata": {},
   "source": [
    "## Q4. What is a generator function in python? Why yield keyword is used? Give an example of a generator function."
   ]
  },
  {
   "cell_type": "raw",
   "id": "b9ef99e3-7e8f-4333-a0e0-5b562f7e7b13",
   "metadata": {},
   "source": [
    "A generator function in Python is a special type of function that generates values lazily, one at a time, rather than computing them all at once and storing them in memory. Generator functions use the yield keyword instead of return to return values one at a time, suspending and resuming their state between each value.\n",
    "\n",
    "The yield keyword is used in generator functions to return a value from the function, but instead of terminating the function like return, it temporarily suspends the function's execution, preserving its state so that it can be resumed from where it left off the next time a value is requested."
   ]
  },
  {
   "cell_type": "code",
   "execution_count": 54,
   "id": "d7e8ca5a-929d-414c-a2b6-e1bed76f8712",
   "metadata": {},
   "outputs": [
    {
     "name": "stdout",
     "output_type": "stream",
     "text": [
      "0\n",
      "1\n",
      "1\n",
      "2\n",
      "3\n",
      "5\n",
      "8\n",
      "13\n",
      "21\n",
      "34\n"
     ]
    }
   ],
   "source": [
    "def fibonacci():\n",
    "    a, b = 0, 1\n",
    "    while True:\n",
    "        yield a\n",
    "        a, b = b, a + b\n",
    "\n",
    "# Using the generator function to generate Fibonacci numbers\n",
    "fib_gen = fibonacci()\n",
    "\n",
    "# Printing the first 10 Fibonacci numbers\n",
    "for _ in range(10):\n",
    "    print(next(fib_gen))\n"
   ]
  },
  {
   "cell_type": "markdown",
   "id": "267f89e9-2113-40bf-90c0-17a997fb0718",
   "metadata": {},
   "source": [
    "## Q5. Create a generator function for prime numbers less than 1000. Use the next() method to print the first 20 prime numbers."
   ]
  },
  {
   "cell_type": "code",
   "execution_count": 59,
   "id": "6486dd93-18f0-4c47-802d-476929e488fc",
   "metadata": {},
   "outputs": [
    {
     "name": "stdout",
     "output_type": "stream",
     "text": [
      "2\n",
      "3\n",
      "5\n",
      "7\n",
      "11\n",
      "13\n",
      "17\n",
      "19\n",
      "23\n",
      "29\n",
      "31\n",
      "37\n",
      "41\n",
      "43\n",
      "47\n",
      "53\n",
      "59\n",
      "61\n",
      "67\n",
      "71\n"
     ]
    }
   ],
   "source": [
    "def prime_numbers():\n",
    "    for num in range(2,1000):\n",
    "        if all(num % i != 0 for i in range(2, int(num**0.5) + 1)):\n",
    "            yield num\n",
    "            \n",
    "# Create a generator object\n",
    "prime_generator = prime_numbers()\n",
    "\n",
    "# Print the first 20 prime numbers\n",
    "for _ in range(20):\n",
    "    print(next(prime_generator))"
   ]
  }
 ],
 "metadata": {
  "kernelspec": {
   "display_name": "Python 3 (ipykernel)",
   "language": "python",
   "name": "python3"
  },
  "language_info": {
   "codemirror_mode": {
    "name": "ipython",
    "version": 3
   },
   "file_extension": ".py",
   "mimetype": "text/x-python",
   "name": "python",
   "nbconvert_exporter": "python",
   "pygments_lexer": "ipython3",
   "version": "3.10.8"
  }
 },
 "nbformat": 4,
 "nbformat_minor": 5
}
